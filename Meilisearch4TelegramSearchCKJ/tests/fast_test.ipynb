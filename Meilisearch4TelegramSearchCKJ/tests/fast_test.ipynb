{
 "cells": [
  {
   "metadata": {
    "ExecuteTime": {
     "end_time": "2024-12-01T11:00:18.249601Z",
     "start_time": "2024-12-01T11:00:18.246964Z"
    }
   },
   "cell_type": "code",
   "source": [
    "reactions = {'👍': 0, '❤️': 3, '🔥': 2,\"💩\":10}\n",
    "TELEGRAM_REACTIONS = {\n",
    "    # 正面情感 (Positive)\n",
    "    '👍': 1.0,    # 基准正面\n",
    "    '❤️': 1.5,    # 强烈喜爱\n",
    "    '🔥': 1.4,    # 热门/精彩\n",
    "    '🎉': 1.3,    # 庆祝\n",
    "    '🤩': 1.4,    # 非常喜欢\n",
    "    '👏': 1.2,    # 赞赏\n",
    "    '♥️': 1.5,    # 喜爱\n",
    "\n",
    "    # 中性/思考 (Neutral)\n",
    "    '🤔': 0.0,    # 思考\n",
    "    '🤯': 0.0,    # 震惊\n",
    "\n",
    "    # 负面情感 (Negative)\n",
    "    '👎': -1.0,   # 基准负面\n",
    "    '😱': -0.5,   # 惊恐\n",
    "    '😢': -0.8,   # 悲伤\n",
    "    '🤬': -1.2,   # 愤怒\n",
    "    '💩': -1.5,   # 强烈否定\n",
    "}\n",
    "\n",
    "# 计算加权分数的函数\n",
    "def calculate_reaction_score(reactions: dict) -> float:\n",
    "    total_score = 0.0\n",
    "    for reaction, count in reactions.items():\n",
    "        weight = TELEGRAM_REACTIONS.get(reaction, 0.0)\n",
    "        total_score += count * weight\n",
    "    return total_score\n",
    "print(f\"{calculate_reaction_score(reactions)}\")\n",
    "\n",
    "\n",
    "def f():\n",
    "    return {\"2\":2,\"5\":5}\n",
    "a,b = f(),15.3\n",
    "print(a,b)"
   ],
   "id": "15451881fc2a31e",
   "outputs": [
    {
     "name": "stdout",
     "output_type": "stream",
     "text": [
      "-7.7\n",
      "{'2': 2, '5': 5} 15.3\n"
     ]
    }
   ],
   "execution_count": 21
  },
  {
   "metadata": {
    "ExecuteTime": {
     "end_time": "2024-12-01T12:01:02.403611Z",
     "start_time": "2024-12-01T12:01:02.401435Z"
    }
   },
   "cell_type": "code",
   "source": [
    "cance={}\n",
    "def gc(**kwargs):\n",
    "    for a in kwargs:\n",
    "        cance[a] = kwargs[a]\n",
    "    print(cance)\n",
    "def c():\n",
    "    global cance\n",
    "    cance = {}\n",
    "gc(a=1,b=2)\n",
    "c()\n",
    "print(cance)"
   ],
   "id": "e8085448095f3efe",
   "outputs": [
    {
     "name": "stdout",
     "output_type": "stream",
     "text": [
      "{'a': 1, 'b': 2}\n",
      "{}\n"
     ]
    }
   ],
   "execution_count": 35
  }
 ],
 "metadata": {
  "kernelspec": {
   "display_name": "Python 3",
   "language": "python",
   "name": "python3"
  },
  "language_info": {
   "codemirror_mode": {
    "name": "ipython",
    "version": 2
   },
   "file_extension": ".py",
   "mimetype": "text/x-python",
   "name": "python",
   "nbconvert_exporter": "python",
   "pygments_lexer": "ipython2",
   "version": "2.7.6"
  }
 },
 "nbformat": 4,
 "nbformat_minor": 5
}
