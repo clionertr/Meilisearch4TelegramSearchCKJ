{
 "cells": [
  {
   "cell_type": "code",
   "id": "initial_id",
   "metadata": {
    "collapsed": true,
    "ExecuteTime": {
     "end_time": "2024-11-28T02:17:05.570740Z",
     "start_time": "2024-11-28T02:16:41.545726Z"
    }
   },
   "source": [
    "import time\n",
    "\n",
    "\n",
    "def calculate_age(birth_year):\n",
    "    if not isinstance(birth_year, int):\n",
    "        raise TypeError(\"Birth year must be an integer\")\n",
    "    if birth_year > 2023:\n",
    "        raise ValueError(\"Birth year cannot be in the future\")\n",
    "    return 2023 - birth_year\n",
    "while True:\n",
    "    try:\n",
    "        age = calculate_age(input(\"Enter your birth year: \"))\n",
    "        time.sleep(2)\n",
    "    except TypeError as e:\n",
    "        print(\"Error:\", e)  # 输出：Error: Birth year must be an integer\n",
    "    except ValueError as e:\n",
    "        print(\"Error:\", e)"
   ],
   "outputs": [
    {
     "name": "stdout",
     "output_type": "stream",
     "text": [
      "Error: Birth year must be an integer\n",
      "Error: Birth year must be an integer\n",
      "Error: Birth year must be an integer\n",
      "Error: Birth year must be an integer\n",
      "Error: Birth year must be an integer\n",
      "Error: Birth year must be an integer\n",
      "Error: Birth year must be an integer\n",
      "Error: Birth year must be an integer\n",
      "Error: Birth year must be an integer\n",
      "Error: Birth year must be an integer\n",
      "Error: Birth year must be an integer\n",
      "Error: Birth year must be an integer\n",
      "Error: Birth year must be an integer\n",
      "Error: Birth year must be an integer\n",
      "Error: Birth year must be an integer\n",
      "Error: Birth year must be an integer\n",
      "Error: Birth year must be an integer\n",
      "Error: Birth year must be an integer\n",
      "Error: Birth year must be an integer\n",
      "Error: Birth year must be an integer\n",
      "Error: Birth year must be an integer\n",
      "Error: Birth year must be an integer\n",
      "Error: Birth year must be an integer\n",
      "Error: Birth year must be an integer\n",
      "Error: Birth year must be an integer\n",
      "Error: Birth year must be an integer\n",
      "Error: Birth year must be an integer\n",
      "Error: Birth year must be an integer\n",
      "Error: Birth year must be an integer\n",
      "Error: Birth year must be an integer\n",
      "Error: Birth year must be an integer\n",
      "Error: Birth year must be an integer\n",
      "Error: Birth year must be an integer\n",
      "Error: Birth year must be an integer\n",
      "Error: Birth year must be an integer\n",
      "Error: Birth year must be an integer\n",
      "Error: Birth year must be an integer\n"
     ]
    },
    {
     "name": "stderr",
     "output_type": "stream",
     "text": [
      "\n",
      "KeyboardInterrupt\n",
      "\n"
     ]
    }
   ],
   "execution_count": 1
  },
  {
   "metadata": {
    "ExecuteTime": {
     "end_time": "2024-11-28T04:02:40.392383Z",
     "start_time": "2024-11-28T04:02:40.389697Z"
    }
   },
   "cell_type": "code",
   "source": [
    "import time\n",
    "for i in range(10):\n",
    "    print(i)\n",
    "    time.sleep(0.1)\n",
    "    return i\n"
   ],
   "id": "bd70806d5facd075",
   "outputs": [
    {
     "ename": "SyntaxError",
     "evalue": "'return' outside function (1181913110.py, line 5)",
     "output_type": "error",
     "traceback": [
      "\u001B[1;36m  Cell \u001B[1;32mIn[7], line 5\u001B[1;36m\u001B[0m\n\u001B[1;33m    return i\u001B[0m\n\u001B[1;37m    ^\u001B[0m\n\u001B[1;31mSyntaxError\u001B[0m\u001B[1;31m:\u001B[0m 'return' outside function\n"
     ]
    }
   ],
   "execution_count": 7
  },
  {
   "metadata": {},
   "cell_type": "code",
   "outputs": [],
   "execution_count": null,
   "source": "",
   "id": "c350c2767a6feb69"
  }
 ],
 "metadata": {
  "kernelspec": {
   "display_name": "Python 3",
   "language": "python",
   "name": "python3"
  },
  "language_info": {
   "codemirror_mode": {
    "name": "ipython",
    "version": 2
   },
   "file_extension": ".py",
   "mimetype": "text/x-python",
   "name": "python",
   "nbconvert_exporter": "python",
   "pygments_lexer": "ipython2",
   "version": "2.7.6"
  }
 },
 "nbformat": 4,
 "nbformat_minor": 5
}
